{
 "cells": [
  {
   "cell_type": "code",
   "execution_count": 1,
   "metadata": {},
   "outputs": [],
   "source": [
    "import json\n",
    "import numpy as np\n",
    "import pandas as pd"
   ]
  },
  {
   "cell_type": "code",
   "execution_count": 2,
   "metadata": {},
   "outputs": [],
   "source": [
    "specs = json.load(open('competitor_pack/data/fire-data-specs.json'))\n",
    "df = pd.read_csv('competitor_pack/data/fire-data.csv')\n",
    "mappings = json.load(open('competitor_pack/data/fire-data-specs-mapping.json'))"
   ]
  },
  {
   "cell_type": "code",
   "execution_count": null,
   "metadata": {},
   "outputs": [],
   "source": []
  },
  {
   "cell_type": "code",
   "execution_count": 3,
   "metadata": {},
   "outputs": [],
   "source": [
    "columns = list(df.columns)\n",
    "domain = { }\n",
    "\n",
    "cols_used = []\n",
    "for column in columns:\n",
    "    if column in specs:\n",
    "        cols_used.append(column)\n",
    "    else:\n",
    "        continue\n",
    "    if specs[column][\"type\"] == \"enum\":\n",
    "        temp = mappings[column].items()\n",
    "        vals = []\n",
    "        for i in temp:\n",
    "            vals.append(i[1])\n",
    "        domain[column] = vals\n",
    "    elif specs[column][\"type\"] == \"integer\":\n",
    "        min_val = specs[column][\"min\"]\n",
    "        max_val = specs[column][\"max\"]\n",
    "        num_bins = 100\n",
    "        if max_val - min_val > num_bins:\n",
    "            domain[column] = list(np.linspace(min_val, max_val, num_bins))\n",
    "        else:\n",
    "            domain[column] = list(range(min_val, max_val+1))\n",
    "    elif specs[column][\"type\"] == \"float\":\n",
    "        min_val = specs[column][\"min\"]\n",
    "        max_val = specs[column][\"max\"]\n",
    "        num_bins = 100\n",
    "        domain[column] = list(np.linspace(min_val, max_val, num_bins))\n",
    "#domain['SCHOOL'] = [1,2]\n",
    "#domain['CHBORN'] += [99]\n",
    "#domain['HIGRADE'] += [99]\n",
    "#domain['EDUC'] += [99]\n",
    "#domain['CLASSWKR'] += [9]\n",
    "#domain['CLASSWKRD'] += [98, 99]\n",
    "#domain['OCC'] = domain['UOCC']\n",
    "#domain['HRSWORK1'] = [i for i in range(99)]\n",
    "#domain['WKSWORK1'] = [i for i in range(53)]\n",
    "#domain['SEI'] = list(range(97))\n",
    "#domain['OCCSCORE'] = list(range(81))\n",
    "#domain['SEA'] = range(503) 0, ..., 502 + 990, ..., 992: better to just use maxval\n",
    "#domain['IND'] = domain['UIND']\n",
    "#domain['ERSCOR50'] = list(range(1001)) + [9999]\n",
    "#domain['EDSCOR50'] = list(range(1001)) + [9999]\n",
    "#domain['NPBOSS50'] = list(range(1001)) + [9999]\n",
    "#domain['MIGMET5'] = domain['METAREAD'] + [9999]\n",
    "#domain['CITY'] += [9999]\n",
    "#domain['MIGCITY5'] = domain['CITY']\n",
    "# domain['DURUNEMP'] = range(251) + [999] # 250 is top code, but some are higher\n",
    "#domain['COUNTY'] = sorted(list(int(c) for c in pd.unique(counties)))\n",
    "#domain['MIGCOUNTY'] = domain['COUNTY']\n",
    "#domain['MIGSEA5'] = list(range(503)) + [990, 991, 992, 996, 997, 998, 999]\n",
    "\n",
    "domain[\"columns\"] = cols_used\n",
    "\n",
    "json.dump(domain, open('domain.json', 'w'))\n",
    "\n",
    "#extra = ['WARD', 'SEA', 'SUPDIST', 'PRESGL', 'MIGSEA5', 'DURUNEMP']"
   ]
  },
  {
   "cell_type": "code",
   "execution_count": 4,
   "metadata": {},
   "outputs": [],
   "source": [
    "for i in columns:\n",
    "    if i not in cols_used:\n",
    "        print(i)"
   ]
  },
  {
   "cell_type": "code",
   "execution_count": null,
   "metadata": {},
   "outputs": [],
   "source": []
  },
  {
   "cell_type": "code",
   "execution_count": null,
   "metadata": {},
   "outputs": [],
   "source": []
  }
 ],
 "metadata": {
  "kernelspec": {
   "display_name": "Python 3",
   "language": "python",
   "name": "python3"
  },
  "language_info": {
   "codemirror_mode": {
    "name": "ipython",
    "version": 3
   },
   "file_extension": ".py",
   "mimetype": "text/x-python",
   "name": "python",
   "nbconvert_exporter": "python",
   "pygments_lexer": "ipython3",
   "version": "3.7.3"
  }
 },
 "nbformat": 4,
 "nbformat_minor": 2
}
